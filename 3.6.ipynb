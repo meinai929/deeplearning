{
 "cells": [
  {
   "cell_type": "code",
   "execution_count": 23,
   "metadata": {},
   "outputs": [],
   "source": [
    "import sys,os\n",
    "os.chdir('/Users/meina/機械学習/deep-learning-from-scratch-master/ch03')\n",
    "sys.path.append(os.path.pardir)\n",
    "from dataset.mnist import load_mnist\n",
    "import pickle"
   ]
  },
  {
   "cell_type": "code",
   "execution_count": 24,
   "metadata": {},
   "outputs": [],
   "source": [
    "(x_train,t_train),(x_test,t_test) = \\\n",
    "    load_mnist(flatten=True, normalize=False)"
   ]
  },
  {
   "cell_type": "code",
   "execution_count": 25,
   "metadata": {},
   "outputs": [
    {
     "name": "stdout",
     "output_type": "stream",
     "text": [
      "(60000, 784)\n"
     ]
    }
   ],
   "source": [
    "print(x_train.shape)"
   ]
  },
  {
   "cell_type": "code",
   "execution_count": 82,
   "metadata": {},
   "outputs": [],
   "source": [
    "import numpy as np"
   ]
  },
  {
   "cell_type": "code",
   "execution_count": 83,
   "metadata": {},
   "outputs": [],
   "source": [
    "def get_data():\n",
    "    (x_train,t_train),(x_test,t_test) = \\\n",
    "        load_mnist(normalize=True,flatten=True,one_hot_label=False)\n",
    "    return x_test,t_test"
   ]
  },
  {
   "cell_type": "code",
   "execution_count": 84,
   "metadata": {},
   "outputs": [],
   "source": [
    "def init_network():\n",
    "    with open(\"sample_weight.pkl\",'rb') as f:\n",
    "        network = pickle.load(f)\n",
    "    return network"
   ]
  },
  {
   "cell_type": "code",
   "execution_count": 85,
   "metadata": {},
   "outputs": [],
   "source": [
    "def sigmoid(x):\n",
    "    return (1/(1+np.exp(-x)))"
   ]
  },
  {
   "cell_type": "code",
   "execution_count": 86,
   "metadata": {},
   "outputs": [],
   "source": [
    "def softmax(a):\n",
    "    c = np.max(a)\n",
    "    exp_a = np.exp(a-c)\n",
    "    sum_exp_a=np.sum(exp_a)\n",
    "    y = exp_a/sum_exp_a\n",
    "    return y"
   ]
  },
  {
   "cell_type": "code",
   "execution_count": 87,
   "metadata": {},
   "outputs": [],
   "source": [
    "def predict(network,x):\n",
    "    W1,W2,W3 = network[\"W1\"],network[\"W2\"],network[\"W3\"]\n",
    "    b1,b2,b3 = network[\"b1\"],network[\"b2\"],network[\"b3\"]\n",
    "    a1 = np.dot(x, W1) + b1\n",
    "    z1 = sigmoid(a1)\n",
    "    a2 = np.dot(z1,W2)+b2\n",
    "    z2 = sigmoid(a2)\n",
    "    a3 = np.dot(z2,W3) + b3\n",
    "    y = softmax(a3)\n",
    "    return y"
   ]
  },
  {
   "cell_type": "code",
   "execution_count": 88,
   "metadata": {},
   "outputs": [],
   "source": [
    "x, t = get_data()\n",
    "network = init_network()\n",
    "batch_size = 10\n",
    "accuracy_cnt = 0"
   ]
  },
  {
   "cell_type": "code",
   "execution_count": 89,
   "metadata": {},
   "outputs": [],
   "source": [
    "for i in range(0,len(x),batch_size):\n",
    "    x_batch = x[i:i+batch_size]\n",
    "    y_batch = predict(network,x_batch)\n",
    "    p = np.argmax(y_batch)\n",
    "    accuracy_cnt += np.sum(p == t[i:i+batch_size])"
   ]
  },
  {
   "cell_type": "code",
   "execution_count": 90,
   "metadata": {},
   "outputs": [
    {
     "name": "stdout",
     "output_type": "stream",
     "text": [
      "Accuracy:0.019\n"
     ]
    }
   ],
   "source": [
    "print(\"Accuracy:\"+str(float(accuracy_cnt)/len(x)))"
   ]
  },
  {
   "cell_type": "code",
   "execution_count": 92,
   "metadata": {},
   "outputs": [
    {
     "name": "stdout",
     "output_type": "stream",
     "text": [
      "[[4.74081304e-07 1.33121093e-05 3.34327167e-04 4.57856775e-04\n",
      "  2.88874588e-07 4.34766253e-06 2.34027242e-09 1.73192695e-01\n",
      "  1.74363195e-05 5.47065923e-04]\n",
      " [6.74603007e-06 2.86727300e-06 1.41906887e-04 8.79840693e-04\n",
      "  3.18779485e-07 7.79728725e-05 9.55072466e-08 1.30257217e-06\n",
      "  1.44784097e-02 4.84956472e-05]\n",
      " [5.42201951e-06 4.14294625e-08 3.10657720e-06 2.10407120e-06\n",
      "  4.44233464e-03 5.23116023e-06 1.98085672e-06 2.09926089e-04\n",
      "  1.59599585e-05 2.41075903e-02]\n",
      " [3.04987188e-02 3.24533289e-08 7.67022502e-05 8.17906039e-06\n",
      "  5.67108373e-07 1.37876754e-03 4.13237358e-05 4.20097251e-07\n",
      "  2.01036775e-04 1.52761174e-06]\n",
      " [2.58865751e-09 7.63664022e-02 2.82671856e-04 3.92241636e-05\n",
      "  1.61330581e-06 1.72411037e-05 4.94305423e-05 6.62320053e-06\n",
      "  1.98742942e-04 1.52425889e-06]\n",
      " [7.87787212e-06 3.65726919e-05 2.35962912e-01 2.02540983e-03\n",
      "  9.57203827e-09 5.89887532e-06 1.63939012e-06 1.73943336e-05\n",
      "  1.62233002e-04 5.23184340e-08]\n",
      " [2.46214149e-05 9.89854288e-06 6.67238550e-04 1.08553030e-01\n",
      "  8.65467875e-09 8.39525383e-05 1.37140134e-07 3.89480265e-05\n",
      "  3.19565115e-05 2.13732983e-06]\n",
      " [1.67655525e-08 2.42302781e-06 2.51378515e-06 1.50287030e-06\n",
      "  3.33510339e-02 2.45896445e-05 1.00327179e-05 2.58694508e-05\n",
      "  2.04717697e-04 7.58829643e-04]\n",
      " [8.12519102e-06 9.98830546e-06 1.62653600e-06 8.35552873e-06\n",
      "  1.64880166e-05 1.18093742e-02 3.56595883e-05 4.96173811e-07\n",
      "  1.12181564e-03 1.17033380e-06]\n",
      " [1.18701202e-04 5.54796543e-07 7.03236787e-04 5.58280988e-07\n",
      "  1.54781970e-04 8.65343391e-05 2.75736839e-01 1.20407762e-07\n",
      "  1.76480876e-06 1.04497005e-07]]\n"
     ]
    }
   ],
   "source": [
    "print(y_batch)"
   ]
  },
  {
   "cell_type": "code",
   "execution_count": null,
   "metadata": {},
   "outputs": [],
   "source": []
  }
 ],
 "metadata": {
  "kernelspec": {
   "display_name": "Python 3",
   "language": "python",
   "name": "python3"
  },
  "language_info": {
   "codemirror_mode": {
    "name": "ipython",
    "version": 3
   },
   "file_extension": ".py",
   "mimetype": "text/x-python",
   "name": "python",
   "nbconvert_exporter": "python",
   "pygments_lexer": "ipython3",
   "version": "3.7.4"
  }
 },
 "nbformat": 4,
 "nbformat_minor": 4
}
