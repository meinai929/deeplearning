{
 "cells": [
  {
   "cell_type": "code",
   "execution_count": 38,
   "metadata": {},
   "outputs": [],
   "source": [
    "#3.4.3復習課題\n",
    "import numpy as np\n",
    "def init_network():\n",
    "    network = {}\n",
    "    network['W1'] = np.array([[0.1,0.2,0.3,0.4],[0.3,0.4,0.5,0.6],[0.2,0.3,0.2,0.3]])\n",
    "    network['B1'] = np.array([0.1,0.2,0.3,0.4])\n",
    "    network['W2'] = np.array([[0.1,0.2,0.3],[0.3,0.4,0.3],[0.2,0.5,0.3],[0.2,0.3,0.4]])\n",
    "    network['B2'] = np.array([0.1,0.2,0.3])\n",
    "    network['W3'] = np.array([[0.1,0.2],[0.3,0.4],[0.2,0.3]])\n",
    "    network['B3'] = np.array([0.1,0.2])\n",
    "    return network"
   ]
  },
  {
   "cell_type": "code",
   "execution_count": 39,
   "metadata": {},
   "outputs": [],
   "source": [
    "def sigmoid(x):\n",
    "    return (1/(1+np.exp(-x)))"
   ]
  },
  {
   "cell_type": "code",
   "execution_count": 40,
   "metadata": {},
   "outputs": [],
   "source": [
    "network = init_network()"
   ]
  },
  {
   "cell_type": "code",
   "execution_count": 41,
   "metadata": {},
   "outputs": [],
   "source": [
    "W1,W2,W3 = network[\"W1\"],network[\"W2\"],network[\"W3\"]\n",
    "B1,B2,B3 = network[\"B1\"],network[\"B2\"],network[\"B3\"]"
   ]
  },
  {
   "cell_type": "code",
   "execution_count": 42,
   "metadata": {},
   "outputs": [],
   "source": [
    "def forward(network,x):\n",
    "    #W1,W2,W3 = network[\"W1\"],network[\"W2\"],network[\"W3\"]\n",
    "    #B1,B2,B3 = network[\"B1\"],network[\"B2\"],network[\"B3\"]\n",
    "    a1 = np.dot(x,W1) + B1\n",
    "    z1 = sigmoid(a1)\n",
    "    a2 = np.dot(z1,W2) + B2\n",
    "    z2 = sigmoid(a2)\n",
    "    a3 = np.dot(z2,W3) + B3\n",
    "    y = a3\n",
    "    return y"
   ]
  },
  {
   "cell_type": "code",
   "execution_count": 47,
   "metadata": {},
   "outputs": [
    {
     "name": "stdout",
     "output_type": "stream",
     "text": [
      "[0.57463963 0.90613082]\n"
     ]
    }
   ],
   "source": [
    "x = np.array([1,2,3])\n",
    "y = forward(network,x)\n",
    "print(y)\n",
    "\n"
   ]
  },
  {
   "cell_type": "code",
   "execution_count": 44,
   "metadata": {},
   "outputs": [
    {
     "data": {
      "text/plain": [
       "(3, 4)"
      ]
     },
     "execution_count": 44,
     "metadata": {},
     "output_type": "execute_result"
    }
   ],
   "source": [
    "W1.shape"
   ]
  },
  {
   "cell_type": "code",
   "execution_count": 45,
   "metadata": {},
   "outputs": [
    {
     "data": {
      "text/plain": [
       "(4, 3)"
      ]
     },
     "execution_count": 45,
     "metadata": {},
     "output_type": "execute_result"
    }
   ],
   "source": [
    "W2.shape"
   ]
  },
  {
   "cell_type": "code",
   "execution_count": 46,
   "metadata": {},
   "outputs": [
    {
     "data": {
      "text/plain": [
       "(3, 2)"
      ]
     },
     "execution_count": 46,
     "metadata": {},
     "output_type": "execute_result"
    }
   ],
   "source": [
    "W3.shape"
   ]
  },
  {
   "cell_type": "code",
   "execution_count": null,
   "metadata": {},
   "outputs": [],
   "source": []
  },
  {
   "cell_type": "code",
   "execution_count": null,
   "metadata": {},
   "outputs": [],
   "source": []
  }
 ],
 "metadata": {
  "kernelspec": {
   "display_name": "Python 3",
   "language": "python",
   "name": "python3"
  },
  "language_info": {
   "codemirror_mode": {
    "name": "ipython",
    "version": 3
   },
   "file_extension": ".py",
   "mimetype": "text/x-python",
   "name": "python",
   "nbconvert_exporter": "python",
   "pygments_lexer": "ipython3",
   "version": "3.7.4"
  }
 },
 "nbformat": 4,
 "nbformat_minor": 4
}
